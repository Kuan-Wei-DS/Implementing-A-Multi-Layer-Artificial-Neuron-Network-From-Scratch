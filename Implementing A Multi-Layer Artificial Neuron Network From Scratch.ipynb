{
 "cells": [
  {
   "cell_type": "markdown",
   "metadata": {},
   "source": [
    "# Implementing A Multi-Layer Artificial Neuron Network From Scratch"
   ]
  },
  {
   "cell_type": "markdown",
   "metadata": {},
   "source": [
    "## Background"
   ]
  },
  {
   "cell_type": "markdown",
   "metadata": {},
   "source": [
    "Artificial neuron network is the building block for deep learning algorithms. However, understanding how the artificial neuron network functions can be challenging, especially for self-taught students like myself. In this notebook, I share a multi-layer artificial neuron network that I developed from scratch with the feature of customizing the number of layers and the number of neurons in each layer. I also include the full math derivations using two simple examples to illustrate the principle of the algorithm. At the end, I also walk through the most important function in my classifier - the \"fit\" function - and explain step by step what the code does. I hope this little document can be helpful for people to better understand some basic logics behind the multi-layer articificial neuron network algorithms."
   ]
  },
  {
   "cell_type": "markdown",
   "metadata": {},
   "source": [
    "## An Overview of the code"
   ]
  },
  {
   "cell_type": "markdown",
   "metadata": {},
   "source": [
    "Below is the full code for the feedforward neural network classifier:"
   ]
  },
  {
   "cell_type": "code",
   "execution_count": 1,
   "metadata": {},
   "outputs": [],
   "source": [
    "from sklearn.preprocessing import LabelEncoder\n",
    "import numpy as np\n",
    "class MultiNNClassifier(object):\n",
    "    \"\"\" Feedforward neural network / Multi-layer perceptron classifier.\n",
    "   \n",
    "    Parameters\n",
    "    ------------\n",
    "    n_layers : int (default: 1)\n",
    "        Number of hidden layers\n",
    "    n_neurons : tuple or list (default: (4, 4))\n",
    "        Number of neurons in each layer. e.g. n_neurons[0] -> number of neurons in the first hidden layer,\n",
    "        n_neurons[1] -> number of neurons in the second hidden layer, etc.\n",
    "    n_iter : int (default: 100)\n",
    "        Number of passes over the training set.\n",
    "    eta : float (default: 0.01)\n",
    "        Learning rate.\n",
    "    minibatch_size : int (default: 1000)\n",
    "        Number of training examples per minibatch.\n",
    "    l2 : float (default: 0.)\n",
    "        Lambda value for L2-regularization.\n",
    "        No regularization if l2=0. (default)\n",
    "    seed : int (default: None)\n",
    "        Random seed for initializing weights and shuffling.\n",
    "    shuffle : bool (default: True)\n",
    "        Shuffles training data every epoch if True to prevent circles.\n",
    "\n",
    "\n",
    "    \"\"\"\n",
    "    \n",
    "    def __init__(self, n_layers=1, n_neurons=[50], n_iter=200, eta=0.01, minibatch_size=1000, l2=0., seed=0, shuffle=True):\n",
    "        self.n_layers = n_layers\n",
    "        self.n_neurons = n_neurons\n",
    "        self.n_iter = n_iter\n",
    "        self.eta = eta\n",
    "        self.random = np.random.RandomState(seed)\n",
    "        self.shuffle = shuffle\n",
    "        self.minibatch_size = minibatch_size\n",
    "        self.l2 = l2\n",
    "        \n",
    "    \n",
    "    def _one_hot(self, y):\n",
    "        \"\"\"Convert target values into one-hot shape\n",
    "        \n",
    "        Parameters\n",
    "        -------------\n",
    "        y : array, shape = [n_examples]\n",
    "        \n",
    "        Returns\n",
    "        -----------\n",
    "        one_hot_y : array, shape = [n_examples, m_unique_labels]\n",
    "        \n",
    "        \"\"\"\n",
    "        self.le = LabelEncoder()\n",
    "        y_label = self.le.fit_transform(y)\n",
    "        one_hot_y = np.zeros((y_label.shape[0], np.unique(y_label).shape[0]))\n",
    "        for idx, label in enumerate(y_label):\n",
    "            one_hot_y[idx, label] = 1\n",
    "        return one_hot_y\n",
    "    \n",
    "    \n",
    "    def _sigmoid(self, z):\n",
    "        \"\"\"Compute the sigmoid function result.\n",
    "\n",
    "        Parameters\n",
    "        ------------\n",
    "        z : int or array\n",
    "            Net input function\n",
    "\n",
    "        Returns\n",
    "        -----------\n",
    "        The sigmoid function result of z\n",
    "\n",
    "        \"\"\"\n",
    "        return 1/(1+np.exp(-z))\n",
    "    \n",
    "    \n",
    "    def _init_weights(self, X, y):\n",
    "        \"\"\"Initialize weights for the hidden layers in the multi-layer neuron network\n",
    "\n",
    "        Parameters\n",
    "        ------------\n",
    "        X : array, shape = [n_examples, k_neurons]\n",
    "            Inputs of a layer\n",
    "        y : array, shape = [n_examples, m_unique_labels]\n",
    "            Target values\n",
    "\n",
    "\n",
    "        Returns\n",
    "        -----------\n",
    "        weights : list of arrays\n",
    "        bias : list of arrays\n",
    "\n",
    "        \"\"\"\n",
    "        if len(self.n_neurons) != self.n_layers:\n",
    "            raise ValueError(\"The length of n_neurons doesn't match the number of hidden layers;\",\n",
    "                             \"got %d as the length of n_neurons and %d as the number of hidden layers\"\\\n",
    "                             %(len(self.n_neurons), self.n_layers))\n",
    "        weights = []\n",
    "        bias = []\n",
    "        for i in range(self.n_layers+1):\n",
    "            if i == 0:\n",
    "                # For the first layer, the number of rows of weight have to match the number of columns of X for matrix multiplication\n",
    "                weights.append(self.random.normal(loc=0.0, scale=0.1, size=(X.shape[1], self.n_neurons[i])))\n",
    "                bias.append(np.zeros(self.n_neurons[i]))\n",
    "            elif i == self.n_layers:\n",
    "                # For the last layer, the dimensions of output have to match the dimensions of y\n",
    "                weights.append(self.random.normal(loc=0.0, scale=0.1, size=(weights[i-1].shape[1], y.shape[1])))\n",
    "                bias.append(np.zeros(y.shape[1]))\n",
    "            else:\n",
    "                weights.append(self.random.normal(loc=0.0, scale=0.1, size=(weights[i-1].shape[1], self.n_neurons[i])))\n",
    "                bias.append(np.zeros(self.n_neurons[i]))\n",
    "        return weights, bias\n",
    "\n",
    "    def _forward (self, X):\n",
    "        \"\"\"Compute the net input function and activation results by forward propagation\n",
    "\n",
    "        Parameters\n",
    "        ------------\n",
    "        X : array, shape = [n_examples, k_neurons]\n",
    "            Inputs of a layer\n",
    "\n",
    "        Returns\n",
    "        -----------\n",
    "        z : List of arrays\n",
    "            Net input function results for all layers\n",
    "        a : List of arrays\n",
    "            Activation results for all layers\n",
    "\n",
    "        \"\"\"\n",
    "        z = [] \n",
    "        a = []\n",
    "        for i in range(self.n_layers+1):\n",
    "            if i == 0:\n",
    "                z.append(np.dot(X, self.weights[i]) + self.bias[i])\n",
    "                a.append(self._sigmoid(z[i]))\n",
    "            else:\n",
    "                z.append(np.dot(a[i-1], self.weights[i]) + self.bias[i])\n",
    "                a.append(self._sigmoid(z[i]))\n",
    "        return z, a\n",
    "    def fit(self,X, y):    \n",
    "        \"\"\"Learn weights from training data.\n",
    "\n",
    "        Parameters\n",
    "        ------------\n",
    "        X : array, shape = [n_examples, k_features]\n",
    "            Input layer with original features.\n",
    "        y : array, shape = [n_examples]\n",
    "            Target class labels.\n",
    "        Returns\n",
    "        -----------\n",
    "        self\n",
    "\n",
    "        \"\"\"\n",
    "        y = self._one_hot(y)        \n",
    "        # Initialize weights and bias\n",
    "        self.weights, self.bias = self._init_weights(X, y)\n",
    "\n",
    "        for _ in range(self.n_iter):\n",
    "            indices = np.arange(X.shape[0])\n",
    "            if self.shuffle:\n",
    "                np.random.shuffle(indices)\n",
    "            for start_idx in range(0, indices.shape[0]-self.minibatch_size+1, self.minibatch_size):\n",
    "                batch_idx = indices[start_idx:start_idx+self.minibatch_size]\n",
    "                X_batch = X[batch_idx]\n",
    "                y_batch = y[batch_idx]\n",
    "                # Forward Propagation\n",
    "                z, a = self._forward(X_batch)\n",
    "\n",
    "                # Back Propagation\n",
    "                # Note that the errors and the delta_weights are stored in reverse order. \n",
    "                # i.e. for the last layer, the error and delta_weights are errors[0] and delta_weights[0]\n",
    "                errors = [] # the errors between anticipated vs. predicted activation values\n",
    "                delta_weights = [] # the values to adjust weights\n",
    "                delta_bias = [] # the values to adjust bias\n",
    "                for j in range(self.n_layers+1):\n",
    "                    if j == 0:\n",
    "                        errors.append(y_batch-a[self.n_layers])\n",
    "                        delta_weights.append(-np.dot(a[self.n_layers-1].T, errors[j])-self.l2*self.weights[self.n_layers])\n",
    "                        delta_bias.append(np.sum(errors[j], axis=0))\n",
    "                    elif j == self.n_layers:\n",
    "                        part_1 = np.dot(errors[j-1], self.weights[self.n_layers+1-j].T)\n",
    "                        part_2 = np.multiply(a[self.n_layers-j], 1-a[self.n_layers-j])\n",
    "                        errors.append(np.multiply(part_1, part_2))\n",
    "                        delta_weights.append(-np.dot(X_batch.T, errors[j])-self.l2*self.weights[self.n_layers-j])\n",
    "                        delta_bias.append(np.sum(errors[j], axis=0))\n",
    "                    else:\n",
    "                        part_1 = np.dot(errors[j-1], self.weights[self.n_layers+1-j].T)\n",
    "                        part_2 = np.multiply(a[self.n_layers-j], 1-a[self.n_layers-j])\n",
    "                        errors.append(np.multiply(part_1, part_2))\n",
    "                        delta_weights.append(-np.dot(a[self.n_layers-1-j].T, errors[j])-self.l2*self.weights[self.n_layers-j])\n",
    "                        delta_bias.append(np.sum(errors[j], axis=0))\n",
    "\n",
    "                # Update weights\n",
    "                for k in range(self.n_layers+1):\n",
    "                    self.weights[k] -=  self.eta*delta_weights[self.n_layers-k]\n",
    "                    self.bias[k] -= self.eta*delta_bias[self.n_layers-k]\n",
    "\n",
    "    def predict(self, X):\n",
    "        \"\"\"Predict class labels\n",
    "\n",
    "        Parameters\n",
    "        -----------\n",
    "        X : array, shape = [n_examples, n_features]\n",
    "            Input layer with original features.\n",
    "\n",
    "        Returns:\n",
    "        ----------\n",
    "        y_pred : array, shape = [n_examples]\n",
    "            Predicted class labels.\n",
    "\n",
    "        \"\"\"\n",
    "        z, a = self._forward(X)\n",
    "        y_pred = self.le.inverse_transform(np.argmax(a[-1], axis=1))\n",
    "        \n",
    "        return y_pred\n",
    "    \n",
    "    \n",
    "    def accuracy_score(self, X, y):\n",
    "        \"\"\"Compute the accuracy score.\n",
    "\n",
    "        Parameters\n",
    "        ------------\n",
    "        X : array, shape = [n_examples, k_features]\n",
    "            Input layer with original features.\n",
    "        y : array, shape = [n_examples]\n",
    "            Target class labels.\n",
    "        Returns\n",
    "        -----------\n",
    "        accuracy_score : float\n",
    "            The accuracy score of the predictions\n",
    "        \"\"\"\n",
    "        y_pred = self.predict(X)\n",
    "        accuracy_score = np.sum(y_pred==y)/len(y)\n",
    "        return accuracy_score"
   ]
  },
  {
   "cell_type": "markdown",
   "metadata": {},
   "source": [
    "# Use my classifier to predict hand-written digits"
   ]
  },
  {
   "cell_type": "markdown",
   "metadata": {},
   "source": [
    "To verify if my classifier works, I tested it on probably one of the most popular datasets in deep learning: [The MNIST database of handwritten digits](http://yann.lecun.com/exdb/mnist/). This dataset contains 60,000 handwritten digits images in 28x28 pixels and the corresponding correct labels as the training set, and 10,000 images and corresponding labels as the test set. I want to see whether my classifier can successfully classify the handwritten digits using various numbers of layers and neurons. "
   ]
  },
  {
   "cell_type": "markdown",
   "metadata": {},
   "source": [
    "## Load the dataset"
   ]
  },
  {
   "cell_type": "code",
   "execution_count": 2,
   "metadata": {},
   "outputs": [],
   "source": [
    "import os\n",
    "import numpy as np\n",
    "import struct\n",
    "\n",
    "train_labels_path = r\"C:\\DataScience\\Jupyter Files\\Neuron Network\\MNIST Database of handwritten digits\\train-labels.idx1-ubyte\"\n",
    "train_imgs_path = r\"C:\\DataScience\\Jupyter Files\\Neuron Network\\MNIST Database of handwritten digits\\train-images.idx3-ubyte\"\n",
    "\n",
    "with open(train_labels_path, 'rb') as lbpath:\n",
    "    magic, n = struct.unpack('>II', lbpath.read(8))\n",
    "    labels = np.fromfile(lbpath, dtype=np.uint8)\n",
    "    y_train = labels\n",
    "\n",
    "    \n",
    "with open(train_imgs_path, 'rb') as imgpath:\n",
    "    magic, num, rows, cols = struct.unpack(\">IIII\", imgpath.read(16))\n",
    "    images = np.fromfile(imgpath,dtype=np.uint8).reshape(len(labels), 784)    # Reshape the images of 28x28 pixels into 1x784 pixels (a single line)\n",
    "    images = ((images / 255.) - .5) * 2   # Standardize the pixel intensity value from 0 to 255 to -1 to 1\n",
    "    X_train = images\n",
    "    \n",
    "test_labels_path = r\"C:\\DataScience\\Jupyter Files\\Neuron Network\\MNIST Database of handwritten digits\\t10k-labels.idx1-ubyte\"\n",
    "test_imgs_path = r\"C:\\DataScience\\Jupyter Files\\Neuron Network\\MNIST Database of handwritten digits\\t10k-images.idx3-ubyte\"\n",
    "\n",
    "with open(test_labels_path, 'rb') as lbpath:\n",
    "    magic, n = struct.unpack('>II', lbpath.read(8))\n",
    "    labels = np.fromfile(lbpath, dtype=np.uint8)\n",
    "    y_test = labels\n",
    "\n",
    "    \n",
    "with open(test_imgs_path, 'rb') as imgpath:\n",
    "    magic, num, rows, cols = struct.unpack(\">IIII\", imgpath.read(16))\n",
    "    images = np.fromfile(imgpath,dtype=np.uint8).reshape(len(labels), 784)    # Reshape the images of 28x28 pixels into 1x784 pixels (a single line)\n",
    "    images = ((images / 255.) - .5) * 2   # Standardize the pixel intensity value from 0 to 255 to -1 to 1\n",
    "    X_test = images"
   ]
  },
  {
   "cell_type": "code",
   "execution_count": 3,
   "metadata": {
    "scrolled": false
   },
   "outputs": [
    {
     "name": "stdout",
     "output_type": "stream",
     "text": [
      "X_train shape: (60000, 784)\n",
      "y_train shape: (60000,)\n",
      "X_test shape: (10000, 784)\n",
      "y_test shape: (10000,)\n"
     ]
    }
   ],
   "source": [
    "print (\"X_train shape: %s\" %(X_train.shape,))\n",
    "print (\"y_train shape: %s\" %(y_train.shape,))\n",
    "print (\"X_test shape: %s\" %(X_test.shape,))\n",
    "print (\"y_test shape: %s\" %(y_test.shape,))"
   ]
  },
  {
   "cell_type": "markdown",
   "metadata": {},
   "source": [
    "Some of the images in X_train and X_test:"
   ]
  },
  {
   "cell_type": "code",
   "execution_count": 4,
   "metadata": {},
   "outputs": [
    {
     "data": {
      "image/png": "[encoded data removed]",
      "text/plain": [
       "<Figure size 432x288 with 10 Axes>"
      ]
     },
     "metadata": {},
     "output_type": "display_data"
    }
   ],
   "source": [
    "%matplotlib inline\n",
    "import matplotlib.pyplot as plt\n",
    "fig, ax = plt.subplots(nrows=2, ncols=5, sharex=True, sharey=True)\n",
    "ax = ax.flatten()  \n",
    "for i in range(10):\n",
    "    img = X_train[y_train == i][0].reshape(28, 28)\n",
    "    ax[i].imshow(img, cmap='Greys')\n",
    "ax[0].set_xticks([])\n",
    "ax[0].set_yticks([])\n",
    "plt.show()"
   ]
  },
  {
   "cell_type": "code",
   "execution_count": 5,
   "metadata": {},
   "outputs": [
    {
     "data": {
      "image/png": "[encoded data removed]",
      "text/plain": [
       "<Figure size 432x288 with 10 Axes>"
      ]
     },
     "metadata": {},
     "output_type": "display_data"
    }
   ],
   "source": [
    "%matplotlib inline\n",
    "import matplotlib.pyplot as plt\n",
    "fig, ax = plt.subplots(nrows=2, ncols=5, sharex=True, sharey=True)\n",
    "ax = ax.flatten()  \n",
    "for i in range(10):\n",
    "    img = X_test[y_test == i][0].reshape(28, 28)\n",
    "    ax[i].imshow(img, cmap='Greys')\n",
    "ax[0].set_xticks([])\n",
    "ax[0].set_yticks([])\n",
    "plt.show()"
   ]
  },
  {
   "cell_type": "markdown",
   "metadata": {},
   "source": [
    "## Classification"
   ]
  },
  {
   "cell_type": "markdown",
   "metadata": {},
   "source": [
    "#### Classify the handwritten digits using three layers (one hidden layer)"
   ]
  },
  {
   "cell_type": "code",
   "execution_count": 6,
   "metadata": {
    "scrolled": true
   },
   "outputs": [
    {
     "name": "stdout",
     "output_type": "stream",
     "text": [
      "Training accuracy: 0.994\n",
      "Testing accuracy: 0.973\n",
      "Running time: 118.64125370979309\n"
     ]
    }
   ],
   "source": [
    "import time\n",
    "start_time = time.time()\n",
    "MNN_1 = MultiNNClassifier(n_layers=1, n_neurons=[80], l2=0, n_iter=200, eta=0.0005, seed=1, minibatch_size=100)\n",
    "MNN_1.fit(X_train, y_train)\n",
    "end_time = time.time()\n",
    "running_time = end_time - start_time\n",
    "print(\"Training accuracy: %.3f\" %MNN_1.accuracy_score(X_train, y_train))\n",
    "print(\"Testing accuracy: %.3f\" %MNN_1.accuracy_score(X_test, y_test))\n",
    "print(\"Running time: %s s\" %running_time)"
   ]
  },
  {
   "cell_type": "markdown",
   "metadata": {},
   "source": [
    "It can be seen that my classifier sucessfully classified the handwritten digits in both the training set and the test set with very high accuracy (over 95%), when using 80 neurons in the hidden layer. To further verify that my classifier is truely working, I include some examples of correctly predicted and incorrectly predicted images:"
   ]
  },
  {
   "cell_type": "markdown",
   "metadata": {},
   "source": [
    "Some examples of correctly predicted images:"
   ]
  },
  {
   "cell_type": "code",
   "execution_count": 7,
   "metadata": {},
   "outputs": [
    {
     "data": {
      "image/png": "[encoded data removed]",
      "text/plain": [
       "<Figure size 432x288 with 25 Axes>"
      ]
     },
     "metadata": {},
     "output_type": "display_data"
    }
   ],
   "source": [
    "y_pred_test = MNN_1.predict(X_test)\n",
    "pred_img = X_test[y_test == y_pred_test][:25]\n",
    "correct_lab = y_test[y_pred_test == y_test][:25]\n",
    "pred_lab = y_pred_test[y_test == y_pred_test][:25]\n",
    "\n",
    "fig, ax = plt.subplots(nrows=5, ncols=5, sharex=True, sharey=True)\n",
    "ax = ax.flatten()\n",
    "for i in range(25):\n",
    "    img = pred_img[i].reshape(28, 28)\n",
    "    ax[i].imshow(img, cmap='Greys', interpolation='nearest')\n",
    "    ax[i].set_title('%d) t: %d p: %d' % (i+1, correct_lab[i], pred_lab[i]))\n",
    "\n",
    "ax[0].set_xticks([])\n",
    "ax[0].set_yticks([])\n",
    "plt.tight_layout()\n",
    "plt.show()"
   ]
  },
  {
   "cell_type": "markdown",
   "metadata": {},
   "source": [
    "Some examples of incorrectly predicted images:"
   ]
  },
  {
   "cell_type": "code",
   "execution_count": 8,
   "metadata": {},
   "outputs": [
    {
     "data": {
      "image/png": "[encoded data removed]",
      "text/plain": [
       "<Figure size 432x288 with 25 Axes>"
      ]
     },
     "metadata": {},
     "output_type": "display_data"
    }
   ],
   "source": [
    "pred_img = X_test[y_test != y_pred_test][:25]\n",
    "correct_lab = y_test[y_pred_test != y_test][:25]\n",
    "pred_lab = y_pred_test[y_test != y_pred_test][:25]\n",
    "\n",
    "fig, ax = plt.subplots(nrows=5, ncols=5, sharex=True, sharey=True)\n",
    "ax = ax.flatten()\n",
    "for i in range(25):\n",
    "    img = pred_img[i].reshape(28, 28)\n",
    "    ax[i].imshow(img, cmap='Greys', interpolation='nearest')\n",
    "    ax[i].set_title('%d) t: %d p: %d' % (i+1, correct_lab[i], pred_lab[i]))\n",
    "\n",
    "ax[0].set_xticks([])\n",
    "ax[0].set_yticks([])\n",
    "plt.tight_layout()\n",
    "plt.show()"
   ]
  },
  {
   "cell_type": "markdown",
   "metadata": {},
   "source": [
    "#### Classify the handwritten digits using four layers (two hidden layers)"
   ]
  },
  {
   "cell_type": "code",
   "execution_count": 9,
   "metadata": {},
   "outputs": [
    {
     "name": "stdout",
     "output_type": "stream",
     "text": [
      "Training accuracy: 0.999\n",
      "Testing accuracy: 0.977\n",
      "Running time: 141.52188682556152\n"
     ]
    }
   ],
   "source": [
    "start_time = time.time()\n",
    "MNN_2 = MultiNNClassifier(n_layers=2, n_neurons=[80,50], l2=0, n_iter=200, eta=0.0005, seed=1, minibatch_size=100)\n",
    "MNN_2.fit(X_train, y_train)\n",
    "end_time = time.time()\n",
    "running_time = end_time - start_time\n",
    "print(\"Training accuracy: %.3f\" %MNN_2.accuracy_score(X_train, y_train))\n",
    "print(\"Testing accuracy: %.3f\" %MNN_2.accuracy_score(X_test, y_test))\n",
    "print(\"Running time: %s s\" %running_time)"
   ]
  },
  {
   "cell_type": "markdown",
   "metadata": {},
   "source": [
    "My classifier also works when I use four layers (two hidden layers). Also, there is a slight increase in the training and testing accuracy. Interestingly, adding one additional layer does not increase the running time a lot (only 23 seconds increase)."
   ]
  },
  {
   "cell_type": "markdown",
   "metadata": {},
   "source": [
    "Some examples of correctly predicted images:"
   ]
  },
  {
   "cell_type": "code",
   "execution_count": 10,
   "metadata": {},
   "outputs": [
    {
     "data": {
      "image/png": "[encoded data removed]",
      "text/plain": [
       "<Figure size 432x288 with 25 Axes>"
      ]
     },
     "metadata": {},
     "output_type": "display_data"
    }
   ],
   "source": [
    "y_pred_test = MNN_1.predict(X_test)\n",
    "pred_img = X_test[y_test == y_pred_test][:25]\n",
    "correct_lab = y_test[y_pred_test == y_test][:25]\n",
    "pred_lab = y_pred_test[y_test == y_pred_test][:25]\n",
    "\n",
    "fig, ax = plt.subplots(nrows=5, ncols=5, sharex=True, sharey=True)\n",
    "ax = ax.flatten()\n",
    "for i in range(25):\n",
    "    img = pred_img[i].reshape(28, 28)\n",
    "    ax[i].imshow(img, cmap='Greys', interpolation='nearest')\n",
    "    ax[i].set_title('%d) t: %d p: %d' % (i+1, correct_lab[i], pred_lab[i]))\n",
    "\n",
    "ax[0].set_xticks([])\n",
    "ax[0].set_yticks([])\n",
    "plt.tight_layout()\n",
    "plt.show()"
   ]
  },
  {
   "cell_type": "markdown",
   "metadata": {},
   "source": [
    "Some examples of incorrectly predicted images:"
   ]
  },
  {
   "cell_type": "code",
   "execution_count": 11,
   "metadata": {},
   "outputs": [
    {
     "data": {
      "image/png": "[encoded data removed]",
      "text/plain": [
       "<Figure size 432x288 with 25 Axes>"
      ]
     },
     "metadata": {},
     "output_type": "display_data"
    }
   ],
   "source": [
    "pred_img = X_test[y_test != y_pred_test][:25]\n",
    "correct_lab = y_test[y_pred_test != y_test][:25]\n",
    "pred_lab = y_pred_test[y_test != y_pred_test][:25]\n",
    "\n",
    "fig, ax = plt.subplots(nrows=5, ncols=5, sharex=True, sharey=True)\n",
    "ax = ax.flatten()\n",
    "for i in range(25):\n",
    "    img = pred_img[i].reshape(28, 28)\n",
    "    ax[i].imshow(img, cmap='Greys', interpolation='nearest')\n",
    "    ax[i].set_title('%d) t: %d p: %d' % (i+1, correct_lab[i], pred_lab[i]))\n",
    "\n",
    "ax[0].set_xticks([])\n",
    "ax[0].set_yticks([])\n",
    "plt.tight_layout()\n",
    "plt.show()"
   ]
  },
  {
   "cell_type": "markdown",
   "metadata": {},
   "source": [
    "#### Classify the handwritten digits using five layers (three hidden layers)"
   ]
  },
  {
   "cell_type": "code",
   "execution_count": 12,
   "metadata": {},
   "outputs": [
    {
     "name": "stdout",
     "output_type": "stream",
     "text": [
      "Training accuracy: 1.000\n",
      "Testing accuracy: 0.977\n",
      "Running time: 715.0967512130737\n"
     ]
    }
   ],
   "source": [
    "start_time = time.time()\n",
    "MNN_3 = MultiNNClassifier(n_layers=3, n_neurons=[200,100,50], l2=0, n_iter=200, eta=0.0005, seed=1, minibatch_size=100)\n",
    "MNN_3.fit(X_train, y_train)\n",
    "end_time = time.time()\n",
    "running_time = end_time - start_time\n",
    "print(\"Training accuracy: %.3f\" %MNN_3.accuracy_score(X_train, y_train))\n",
    "print(\"Testing accuracy: %.3f\" %MNN_3.accuracy_score(X_test, y_test))\n",
    "print(\"Running time: %s s\" %running_time)"
   ]
  },
  {
   "cell_type": "markdown",
   "metadata": {},
   "source": [
    "Using five layers (three hidden layers) the accuracy can be further increased. As a compenation, however, the running time is much longer than the previous models."
   ]
  },
  {
   "cell_type": "markdown",
   "metadata": {},
   "source": [
    "Some examples of correctly predicted images:"
   ]
  },
  {
   "cell_type": "code",
   "execution_count": 13,
   "metadata": {},
   "outputs": [
    {
     "data": {
      "image/png": "[encoded data removed]",
      "text/plain": [
       "<Figure size 432x288 with 25 Axes>"
      ]
     },
     "metadata": {},
     "output_type": "display_data"
    }
   ],
   "source": [
    "y_pred_test = MNN_1.predict(X_test)\n",
    "pred_img = X_test[y_test == y_pred_test][:25]\n",
    "correct_lab = y_test[y_pred_test == y_test][:25]\n",
    "pred_lab = y_pred_test[y_test == y_pred_test][:25]\n",
    "\n",
    "fig, ax = plt.subplots(nrows=5, ncols=5, sharex=True, sharey=True)\n",
    "ax = ax.flatten()\n",
    "for i in range(25):\n",
    "    img = pred_img[i].reshape(28, 28)\n",
    "    ax[i].imshow(img, cmap='Greys', interpolation='nearest')\n",
    "    ax[i].set_title('%d) t: %d p: %d' % (i+1, correct_lab[i], pred_lab[i]))\n",
    "\n",
    "ax[0].set_xticks([])\n",
    "ax[0].set_yticks([])\n",
    "plt.tight_layout()\n",
    "plt.show()"
   ]
  },
  {
   "cell_type": "markdown",
   "metadata": {},
   "source": [
    "Some examples of incorrectly predicted images:"
   ]
  },
  {
   "cell_type": "code",
   "execution_count": 14,
   "metadata": {},
   "outputs": [
    {
     "data": {
      "image/png": "[encoded data removed]",
      "text/plain": [
       "<Figure size 432x288 with 25 Axes>"
      ]
     },
     "metadata": {},
     "output_type": "display_data"
    }
   ],
   "source": [
    "pred_img = X_test[y_test != y_pred_test][:25]\n",
    "correct_lab = y_test[y_pred_test != y_test][:25]\n",
    "pred_lab = y_pred_test[y_test != y_pred_test][:25]\n",
    "\n",
    "fig, ax = plt.subplots(nrows=5, ncols=5, sharex=True, sharey=True)\n",
    "ax = ax.flatten()\n",
    "for i in range(25):\n",
    "    img = pred_img[i].reshape(28, 28)\n",
    "    ax[i].imshow(img, cmap='Greys', interpolation='nearest')\n",
    "    ax[i].set_title('%d) t: %d p: %d' % (i+1, correct_lab[i], pred_lab[i]))\n",
    "\n",
    "ax[0].set_xticks([])\n",
    "ax[0].set_yticks([])\n",
    "plt.tight_layout()\n",
    "plt.show()"
   ]
  },
  {
   "cell_type": "markdown",
   "metadata": {},
   "source": [
    "## Math Behind the Multi-NN Classifier"
   ]
  },
  {
   "cell_type": "markdown",
   "metadata": {},
   "source": [
    "### A single-input-single-target-value NN classifier"
   ]
  },
  {
   "cell_type": "markdown",
   "metadata": {},
   "source": [
    "The feedforward neural network (NN) classifier consists of two major parts: forward-propagation and back-propagation. The forward-propagation uses the input values and the weights to predict the output values. The back-propagation finds the errors between the predicted output values and the true target values to adjust the weights. Since the math involved in multi-layer NN classifiers is not straight-forward, I start with a simple example. Consider a single-input-single-target-value NN classifier as below:"
   ]
  },
  {
   "cell_type": "markdown",
   "metadata": {},
   "source": [
    "![image](single_path_NN_classifier.PNG \"Single Path Neural Network Classifier\")"
   ]
  },
  {
   "cell_type": "markdown",
   "metadata": {},
   "source": [
    "Where \n",
    "- $a^n$ is the neuron in the $n^{th}$ layer\n",
    "- $z^n$ is the net input function result in the $n^{th}$ layer\n",
    "- $w^n$ is the weight in the $n^{th}$ layer\n",
    "- $\\phi$ is the activation function\n",
    "- $X$ is the input value\n",
    "- $y$ is the target value\n",
    "- $\\hat y$ is the predicted target value"
   ]
  },
  {
   "cell_type": "markdown",
   "metadata": {},
   "source": [
    "#### Forward-Propagation"
   ]
  },
  {
   "cell_type": "markdown",
   "metadata": {},
   "source": [
    "**In the forward-propagation**, from one layer to the next, we need to firstly take random guesses for each weight, and use these guessed weight values to find the net input function result:"
   ]
  },
  {
   "cell_type": "markdown",
   "metadata": {},
   "source": [
    "$$ z^n = w^{n-1}a^{n-1} $$"
   ]
  },
  {
   "cell_type": "markdown",
   "metadata": {},
   "source": [
    "Then, the neuron in the next layer is found by the activation function. I used sigmoid function as the activation function because sigmoid function suits well for classification problems:"
   ]
  },
  {
   "cell_type": "markdown",
   "metadata": {},
   "source": [
    "$$a^n = \\phi(z^n) = \\frac{1}{1+e^{z^n}}$$"
   ]
  },
  {
   "cell_type": "markdown",
   "metadata": {},
   "source": [
    "For example, from the $1^{st}$ layer to the $2^{nd}$ layer, the forward-propagation is:"
   ]
  },
  {
   "cell_type": "markdown",
   "metadata": {},
   "source": [
    "$$z^2 = w^1a^1= w^1X$$ "
   ]
  },
  {
   "cell_type": "markdown",
   "metadata": {},
   "source": [
    "$$a^2 = \\frac{1}{1+e^{z^2}}$$"
   ]
  },
  {
   "cell_type": "markdown",
   "metadata": {},
   "source": [
    "By processing the forward-propagation till the $3{rd}$ layer (output layer), we will get a predicted y value. However, this predicted y value is likely to be wrong as we used the guessed weights. Therefore, we need to then implement the back-propagation to find the right weights."
   ]
  },
  {
   "cell_type": "markdown",
   "metadata": {},
   "source": [
    "#### Back-Propagation"
   ]
  },
  {
   "cell_type": "markdown",
   "metadata": {},
   "source": [
    "**In the back-propagation**, we need to firstly define a cost function. Since I used the sigmoid function as the activation function, which is the activation function used in Logistic Regression, I then used the [cost function for Logistic Regression](https://towardsdatascience.com/introduction-to-logistic-regression-66248243c148#:~:text=We%20can%20call%20a%20Logistic,instead%20of%20a%20linear%20function.) as well. The cost function is as follow:"
   ]
  },
  {
   "cell_type": "markdown",
   "metadata": {},
   "source": [
    "$$J(w) = -\\sum_{i=0}^{k}y_iln(a_i) + (1-y_i)ln(1-a_i)$$"
   ]
  },
  {
   "cell_type": "markdown",
   "metadata": {},
   "source": [
    "Where\n",
    "- $y_i$ indicates the $i^{th}$ sample in the target values\n",
    "- $a_i$ indicates the $i^{th}$ sample in the output\n",
    "\n",
    "To improve our model performance, we need to minimize the cost. The optimization algorithm I used here is the gradient descent algorithm. Since in this example, only one output $a^3$ and one target value $y$ are presented, the cost function can be simplified as:"
   ]
  },
  {
   "cell_type": "markdown",
   "metadata": {},
   "source": [
    "$$J(w) = -\\left[ yln(a^3) + (1-y)ln(1-a^3) \\right]$$"
   ]
  },
  {
   "cell_type": "markdown",
   "metadata": {},
   "source": [
    "Then, the gradient with respect to $w^2$ is:"
   ]
  },
  {
   "cell_type": "markdown",
   "metadata": {},
   "source": [
    "$$\\frac{\\partial \\mathbf{J}}{\\partial w^2} = \\frac{\\partial \\mathbf{J}}{\\partial a^3} \\cdot \\frac{\\partial \\mathbf{a^3}} {\\partial z^3} \\cdot \\frac{\\partial \\mathbf{z^3}}{\\partial w^2}\n",
    "=-\\left[ y\\frac{1}{a^3}+(1-y)\\frac{-1}{1-a^3} \\right] \\cdot \\left[ -\\frac{1}{(1+e^{-z^3})^2}\\cdot(-e^{-z^3}) \\right] \\cdot a^2 = -(y-a^3) \\cdot a^2$$ "
   ]
  },
  {
   "cell_type": "markdown",
   "metadata": {},
   "source": [
    "Note that \n",
    "\n",
    "$$-\\frac{1}{(1+e^{-z^3})^2}\\cdot(-e^{-z^3}) = \\frac{e^{-z^3}}{(1+e^{-z^3})^2} = \\frac{1}{1+e^{-z^3}} \\cdot (1-\\frac{1}{1+e^{-z^3}}) = a^3 \\cdot (1-a^3)$$"
   ]
  },
  {
   "cell_type": "markdown",
   "metadata": {},
   "source": [
    "And the gradient with respect to $w^1$ is:"
   ]
  },
  {
   "cell_type": "markdown",
   "metadata": {},
   "source": [
    "$$\\frac{\\partial \\mathbf{J}}{\\partial w^1} = \\frac{\\partial \\mathbf{J}}{\\partial a^3} \\cdot \\frac{\\partial \\mathbf{a^3}} {\\partial z^3} \\cdot \\frac{\\partial \\mathbf{z^3}}{\\partial a^2} \\cdot \\frac{\\partial \\mathbf{a^2}}{\\partial z^2} \\cdot \\frac{\\partial \\mathbf{z^2}}{\\partial w^1}\n",
    "=-\\left[ y\\frac{1}{a^3}+(1-y)\\frac{-1}{1-a^3} \\right] \\cdot \\left[ a^3 \\cdot (1-a^3) \\right] \\cdot [w^2] \\cdot \\left [a^2 \\cdot (1-a^2) \\right] \\cdot a^1 $$"
   ]
  },
  {
   "cell_type": "markdown",
   "metadata": {},
   "source": [
    "$$= - (y-a^3) \\cdot w^2 \\cdot [a^2 \\cdot (1-a^2)] \\cdot a^1$$ "
   ]
  },
  {
   "cell_type": "markdown",
   "metadata": {},
   "source": [
    "Note that to get $\\frac{\\partial \\mathbf{J}}{\\partial w^1}$ from $\\frac{\\partial \\mathbf{J}}{\\partial w^2}$, we only need to multiply $\\frac{\\partial \\mathbf{J}}{\\partial w^2}$ by $\\frac{\\partial \\mathbf{z^3}}{\\partial a^2} \\cdot \\frac{\\partial \\mathbf{a^2}}{\\partial z^2}$ and change $\\frac{\\partial \\mathbf{z^3}}{\\partial w^2}$ to $\\frac{\\partial \\mathbf{z^2}}{\\partial w^1}$. This is because we implement the chain rule in the back-propagaton, and for each layer, the chain rule remains the same. Thus, if we define the error in the last layer as:"
   ]
  },
  {
   "cell_type": "markdown",
   "metadata": {},
   "source": [
    "$$\\delta^3 = \\frac{\\partial \\mathbf{J}}{\\partial a^3} \\cdot \\frac{\\partial \\mathbf{a^3}} {\\partial z^3} = y-a^3$$"
   ]
  },
  {
   "cell_type": "markdown",
   "metadata": {},
   "source": [
    "Then, the gradient with respect to $w^2$ becomes:"
   ]
  },
  {
   "cell_type": "markdown",
   "metadata": {},
   "source": [
    "$$\\frac{\\partial \\mathbf{J}}{\\partial w^2} = -\\delta^3 \\cdot a^2$$"
   ]
  },
  {
   "cell_type": "markdown",
   "metadata": {},
   "source": [
    "And the error in the second layer becomes:"
   ]
  },
  {
   "cell_type": "markdown",
   "metadata": {},
   "source": [
    "$$\\delta^2 = \\frac{\\partial \\mathbf{J}}{\\partial a^3} \\cdot \\frac{\\partial \\mathbf{a^3}} {\\partial z^3} \\cdot \\frac{\\partial \\mathbf{z^3}}{\\partial a^2} \\cdot \\frac{\\partial \\mathbf{a^2}}{\\partial z^2} = \\delta^3 \\cdot \\frac{\\partial \\mathbf{z^3}}{\\partial a^2} \\cdot \\frac{\\partial \\mathbf{a^2}}{\\partial z^2} = \\delta^3 \\cdot w^2 \\cdot [a^2 \\cdot (1-a^2)]$$"
   ]
  },
  {
   "cell_type": "markdown",
   "metadata": {},
   "source": [
    "The gradient with respect to $w^1$ then becomes:"
   ]
  },
  {
   "cell_type": "markdown",
   "metadata": {},
   "source": [
    "$$\\frac{\\partial \\mathbf{J}}{\\partial w^1} = -\\delta^2 \\cdot a^1$$"
   ]
  },
  {
   "cell_type": "markdown",
   "metadata": {},
   "source": [
    "Based on the above derivation, we can summarize patterns for errors and the gradient as follow (you can further convince yourself that the patterns are true by using more layers of NN):"
   ]
  },
  {
   "cell_type": "markdown",
   "metadata": {},
   "source": [
    "$$\\delta^n = \\delta^{n+1} \\cdot w^n \\cdot [a^n \\cdot (1-a^n)]$$"
   ]
  },
  {
   "cell_type": "markdown",
   "metadata": {},
   "source": [
    "$$\\frac{\\partial \\mathbf{J}}{\\partial w^n} = -\\delta^{n+1} \\cdot a^n$$"
   ]
  },
  {
   "cell_type": "markdown",
   "metadata": {},
   "source": [
    "**These two equations are very important for developing the multi-layer neuron network algorithm, as they provide connections between the errors in one layer and the errors in the previous layer, as well as the relationship between the gradient of the weight and the error.** It is easy to find the errors in the last layer ($\\delta^3$ in the above case) as it is simply the difference between the target value and the predicted value. By using the formula above, we can subsequently determine the errors layer by layer backwards, and then find the gradients with respect to the weights in each layer."
   ]
  },
  {
   "cell_type": "markdown",
   "metadata": {},
   "source": [
    "Finally, to update the weights, we simply substract the gradient multiplied by a learning rate $\\eta$:"
   ]
  },
  {
   "cell_type": "markdown",
   "metadata": {},
   "source": [
    "$$w^n := w^n - \\eta\\frac{\\partial \\mathbf{J}}{\\partial w^n}$$"
   ]
  },
  {
   "cell_type": "markdown",
   "metadata": {},
   "source": [
    "### A multiple-inputs multiple-target values NN classifier"
   ]
  },
  {
   "cell_type": "markdown",
   "metadata": {},
   "source": [
    "Now that we have understood how the forward-propagation and back-propagation work in a single-input-single-target-value NN classifier. Let's see if the same patterns can be found in a multiple-inputs-multiple-target-values NN classifier:"
   ]
  },
  {
   "cell_type": "markdown",
   "metadata": {},
   "source": [
    "<img src=\"multiple_paths_NN_classifier.PNG\" alt=\"Drawing\" style=\"width: 800px;\"/>"
   ]
  },
  {
   "cell_type": "markdown",
   "metadata": {},
   "source": [
    "Here we have a two-input two-target values system. Note that it is rare to classifier two target values using two features. The system is extremely simplified for demonstration purpose. "
   ]
  },
  {
   "cell_type": "markdown",
   "metadata": {},
   "source": [
    "Since now we have more than one samples in each layer, I use subscriptions to denote the samples.\n",
    "- $a^n_i$ is the neuron for the $i^{th}$ sample in the $n^{th}$ layer\n",
    "- $z^n_i$ is the net input function result for the $i^{th}$ sample in the $n^{th}$ layer\n",
    "- $w^n_{ji}$ is the weight to find $z_j$ in the $n+1^{th}$ layer using $a_i$ in the $n^{th}$ layer\n",
    "- $\\phi$ is the activation function\n",
    "- $X_i$ is the input value for the $i^{th}$ sample\n",
    "- $y_i$ is the target value for the $i^{th}$ sample\n",
    "- $\\hat y_i$ is the predicted target value for the $i^{th}$ sample"
   ]
  },
  {
   "cell_type": "markdown",
   "metadata": {},
   "source": [
    "#### Matrix Representation"
   ]
  },
  {
   "cell_type": "markdown",
   "metadata": {},
   "source": [
    "To deal with multiple elements, it is better to take the advantages of matrix operations. First, we need to represent all elements in matrix forms."
   ]
  },
  {
   "cell_type": "markdown",
   "metadata": {},
   "source": [
    "Define:"
   ]
  },
  {
   "cell_type": "markdown",
   "metadata": {},
   "source": [
    "$$A^1 = \\begin{bmatrix} a^1_1 & a^1_2 \\end{bmatrix} $$"
   ]
  },
  {
   "cell_type": "markdown",
   "metadata": {},
   "source": [
    "$$A^2 = \\begin{bmatrix} a^2_1 & a^2_2 & a^2_3\\end{bmatrix} $$"
   ]
  },
  {
   "cell_type": "markdown",
   "metadata": {},
   "source": [
    "$$A^3 = \\begin{bmatrix} a^3_1 & a^3_2 \\end{bmatrix} $$"
   ]
  },
  {
   "cell_type": "markdown",
   "metadata": {},
   "source": [
    "$$Z^2 = \\begin{bmatrix} z^2_1 & z^2_2 & z^2_3\\end{bmatrix} $$"
   ]
  },
  {
   "cell_type": "markdown",
   "metadata": {},
   "source": [
    "$$Z^3 = \\begin{bmatrix} z^3_1 & z^3_2 \\end{bmatrix} $$"
   ]
  },
  {
   "cell_type": "markdown",
   "metadata": {},
   "source": [
    "$$W^1 = \\begin{bmatrix} w^1_{11} & w^1_{21} & w^1_{31} \\\\ w^1_{12} & w^1_{22} & w^1_{32}\\end{bmatrix} $$"
   ]
  },
  {
   "cell_type": "markdown",
   "metadata": {},
   "source": [
    "$$W^2 = \\begin{bmatrix} w^2_{11} & w^2_{21} \\\\ w^2_{12} & w^2_{22} \\\\ w^2_{13} & w^2_{23}\\end{bmatrix} $$"
   ]
  },
  {
   "cell_type": "markdown",
   "metadata": {},
   "source": [
    "$$Y = \\begin{bmatrix} y_1 & y_2 \\end{bmatrix} $$"
   ]
  },
  {
   "cell_type": "markdown",
   "metadata": {},
   "source": [
    "#### Forward-Propagation"
   ]
  },
  {
   "cell_type": "markdown",
   "metadata": {},
   "source": [
    "**In the forward-propagation**, again, we need to firstly take guesses for the weights. Then, we can calculate the net input result as follow:"
   ]
  },
  {
   "cell_type": "markdown",
   "metadata": {},
   "source": [
    "$$ z^n_j = \\sum_{i=0}^{k}w^{n-1}_{ji}a^{n-1}_i $$"
   ]
  },
  {
   "cell_type": "markdown",
   "metadata": {},
   "source": [
    "For example:"
   ]
  },
  {
   "cell_type": "markdown",
   "metadata": {},
   "source": [
    "$$ z^2_1 = w^1_{11} \\cdot a^1_1 + w^1_{12} \\cdot a^1_{2} $$"
   ]
  },
  {
   "cell_type": "markdown",
   "metadata": {},
   "source": [
    "So, in matrix form:"
   ]
  },
  {
   "cell_type": "markdown",
   "metadata": {},
   "source": [
    "$$ Z^n = A^{n-1}W^{n-1} $$"
   ]
  },
  {
   "cell_type": "markdown",
   "metadata": {},
   "source": [
    "And the neurons are simply:"
   ]
  },
  {
   "cell_type": "markdown",
   "metadata": {},
   "source": [
    "$$A^n = \\phi(Z^n) $$"
   ]
  },
  {
   "cell_type": "markdown",
   "metadata": {},
   "source": [
    "Which means that we apply the sigmoid function to each element in the $Z^n$."
   ]
  },
  {
   "cell_type": "markdown",
   "metadata": {},
   "source": [
    "#### Back-Propagation"
   ]
  },
  {
   "cell_type": "markdown",
   "metadata": {},
   "source": [
    "The back-propagation for multi-inputs-multi-target-values system is tricker, as it involves matrix calculus. However, we can avoid doing the matrix calculus by looking for the patterns in the partial derivatives."
   ]
  },
  {
   "cell_type": "markdown",
   "metadata": {},
   "source": [
    "Again, the cost function is:"
   ]
  },
  {
   "cell_type": "markdown",
   "metadata": {},
   "source": [
    "$$J(w) = -\\sum_{i=0}^{k}y_iln(a_i) + (1-y_i)ln(1-a_i)$$"
   ]
  },
  {
   "cell_type": "markdown",
   "metadata": {},
   "source": [
    "Since there are two target values and two predicted values, the cost function can be simplified as:"
   ]
  },
  {
   "cell_type": "markdown",
   "metadata": {},
   "source": [
    "$$J(w) = - \\left[ \\left( y_1ln(a_1^3) + (1-y_1)ln(1-a_1^3) \\right) + \\left( y_2ln(a_2^3) + (1-y_2)ln(1-a_2^3) \\right) \\right]$$"
   ]
  },
  {
   "cell_type": "markdown",
   "metadata": {},
   "source": [
    "Again, we need to find the gradient of $J$ with respect to each weight. Let's start with the weights in the second layer. It can be noticed that $w^2_{11}$, $w^2_{12}$, and $w^2_{13}$ are only used when calculating $z^3_1$, and $w^2_{21}$, $w^2_{22}$, and $w^2_{23}$ are only involved when calculating $z^3_2$. Therefore, we can express the gradients as:"
   ]
  },
  {
   "cell_type": "markdown",
   "metadata": {},
   "source": [
    "$$\\frac{\\partial \\mathbf{J}}{\\partial w^2_{1i}} = \\frac{\\partial \\mathbf{J}}{\\partial a^3_1} \\cdot \\frac{\\partial \\mathbf{a^3_1}} {\\partial z^3_1} \\cdot \\frac{\\partial \\mathbf{z^3_1}}{\\partial w^2_{1i}}\n",
    "=-\\left[ y_1\\frac{1}{a^3_1}+(1-y_1)\\frac{-1}{1-a^3_1} \\right] \\cdot \\left[ -\\frac{1}{(1+e^{-z^3_1})^2}\\cdot(-e^{-z^3_1}) \\right] \\cdot a^2_i = -(y_1-a^3_1) \\cdot a^2_i$$ "
   ]
  },
  {
   "cell_type": "markdown",
   "metadata": {},
   "source": [
    "$$\\frac{\\partial \\mathbf{J}}{\\partial w^2_{2i}} = \\frac{\\partial \\mathbf{J}}{\\partial a^3_2} \\cdot \\frac{\\partial \\mathbf{a^3_2}} {\\partial z^3_2} \\cdot \\frac{\\partial \\mathbf{z^3_2}}{\\partial w^2_{2i}}\n",
    "=-\\left[ y_2\\frac{1}{a^3_2}+(1-y_2)\\frac{-1}{1-a^3_2} \\right] \\cdot \\left[ -\\frac{1}{(1+e^{-z^3_2})^2}\\cdot(-e^{-z^3_2}) \\right] \\cdot a^2_i = -(y_2-a^3_2) \\cdot a^2_i$$ "
   ]
  },
  {
   "cell_type": "markdown",
   "metadata": {},
   "source": [
    "Or:"
   ]
  },
  {
   "cell_type": "markdown",
   "metadata": {},
   "source": [
    "$$\\frac{\\partial \\mathbf{J}}{\\partial w^2_{ji}} = -(y_j-a^3_j) \\cdot a^2_i$$ "
   ]
  },
  {
   "cell_type": "markdown",
   "metadata": {},
   "source": [
    "Thus, if we define the error vector as:"
   ]
  },
  {
   "cell_type": "markdown",
   "metadata": {},
   "source": [
    "$$ \\delta^3 = \\begin{bmatrix} y_1 - a^3_1 & y_2 - a^3_2 \\end{bmatrix} = Y-A^3 $$"
   ]
  },
  {
   "cell_type": "markdown",
   "metadata": {},
   "source": [
    "The gradients with respect to $w^2_{ji}$ as a matrix becomes:"
   ]
  },
  {
   "cell_type": "markdown",
   "metadata": {},
   "source": [
    "$$ \\frac{\\partial \\mathbf{J}}{\\partial W^2} = -\\left( A^2 \\right)^T \\cdot \\delta^3 = -\\begin{bmatrix} \\frac{\\partial \\mathbf{J}}{\\partial w^2_{11}} & \\frac{\\partial \\mathbf{J}}{\\partial w^2_{21}} \\\\ \\frac{\\partial \\mathbf{J}}{\\partial w^2_{12}} & \\frac{\\partial \\mathbf{J}}{\\partial w^2_{22}} \\\\ \\frac{\\partial \\mathbf{J}}{\\partial w^2_{13}} & \\frac{\\partial \\mathbf{J}}{\\partial w^2_{23}}\\end{bmatrix}$$ "
   ]
  },
  {
   "cell_type": "markdown",
   "metadata": {},
   "source": [
    "Similarly, for the weights in the first layer, tt can be noticed that $w^1_{11}$, $w^1_{12}$ are only used when calculating $z^2_1$; $w^1_{21}$, $w^1_{22}$ are only used when calculating $z^2_2; w^2_{31}$, $w^2_{32}$ are only involved when calculating $z^2_3$. Thus:"
   ]
  },
  {
   "cell_type": "markdown",
   "metadata": {},
   "source": [
    "$$\\frac{\\partial \\mathbf{J}}{\\partial w^1_{1i}} = \\frac{\\partial \\mathbf{J}}{\\partial a^2_1} \\cdot \\frac{\\partial \\mathbf{a^2_1}}{\\partial z^2_1} \\cdot \\frac{\\partial \\mathbf{z^2_1}}{\\partial w^1_{1i}} = \\left( \\frac{\\partial \\mathbf{J}}{\\partial a^3_1} \\cdot \\frac{\\partial \\mathbf{a^3_1}} {\\partial z^3_1} \\cdot \\frac{\\partial \\mathbf{z^3_1}}{\\partial a^2_1} + \\frac{\\partial \\mathbf{J}}{\\partial a^3_2} \\cdot \\frac{\\partial \\mathbf{a^3_2}} {\\partial z^3_2} \\cdot \\frac{\\partial \\mathbf{z^3_2}}{\\partial a^2_1} \\right) \\cdot \\frac{\\partial \\mathbf{a^2_1}}{\\partial z^2_1} \\cdot \\frac{\\partial \\mathbf{z^2_1}}{\\partial w^1_{1i}}$$"
   ]
  },
  {
   "cell_type": "markdown",
   "metadata": {},
   "source": [
    "$$=- \\left[ (y_1 - a_1^3)w_{11}^2 + (y_2 - a_2^3)w^2_{21} \\right] \\cdot \\left[ a_1^2 \\cdot (1-a_1^2) \\right] \\cdot a_i^1$$"
   ]
  },
  {
   "cell_type": "markdown",
   "metadata": {},
   "source": [
    "$$\\frac{\\partial \\mathbf{J}}{\\partial w^1_{2i}} = \\frac{\\partial \\mathbf{J}}{\\partial a^2_2} \\cdot \\frac{\\partial \\mathbf{a^2_2}}{\\partial z^2_2} \\cdot \\frac{\\partial \\mathbf{z^2_2}}{\\partial w^1_{2i}} = \\left( \\frac{\\partial \\mathbf{J}}{\\partial a^3_1} \\cdot \\frac{\\partial \\mathbf{a^3_1}} {\\partial z^3_1} \\cdot \\frac{\\partial \\mathbf{z^3_1}}{\\partial a^2_2} + \\frac{\\partial \\mathbf{J}}{\\partial a^3_2} \\cdot \\frac{\\partial \\mathbf{a^3_2}} {\\partial z^3_2} \\cdot \\frac{\\partial \\mathbf{z^3_2}}{\\partial a^2_2} \\right) \\cdot \\frac{\\partial \\mathbf{a^2_2}}{\\partial z^2_2} \\cdot \\frac{\\partial \\mathbf{z^2_2}}{\\partial w^1_{2i}}$$"
   ]
  },
  {
   "cell_type": "markdown",
   "metadata": {},
   "source": [
    "$$=- \\left[ (y_1 - a_1^3)w_{12}^2 + (y_2 - a_2^3)w^2_{22} \\right] \\cdot \\left[ a_2^2 \\cdot (1-a_2^2) \\right] \\cdot a_i^1$$"
   ]
  },
  {
   "cell_type": "markdown",
   "metadata": {},
   "source": [
    "$$\\frac{\\partial \\mathbf{J}}{\\partial w^1_{3i}} = \\frac{\\partial \\mathbf{J}}{\\partial a^3_2} \\cdot \\frac{\\partial \\mathbf{a^2_2}}{\\partial z^2_2} \\cdot \\frac{\\partial \\mathbf{z^2_2}}{\\partial w^1_{3i}} = \\left( \\frac{\\partial \\mathbf{J}}{\\partial a^3_1} \\cdot \\frac{\\partial \\mathbf{a^3_1}} {\\partial z^3_1} \\cdot \\frac{\\partial \\mathbf{z^3_1}}{\\partial a^2_3} + \\frac{\\partial \\mathbf{J}}{\\partial a^3_2} \\cdot \\frac{\\partial \\mathbf{a^3_2}} {\\partial z^3_2} \\cdot \\frac{\\partial \\mathbf{z^3_2}}{\\partial a^2_3} \\right) \\cdot \\frac{\\partial \\mathbf{a^2_3}}{\\partial z^2_3} \\cdot \\frac{\\partial \\mathbf{z^2_3}}{\\partial w^1_{3i}}$$"
   ]
  },
  {
   "cell_type": "markdown",
   "metadata": {},
   "source": [
    "$$=- \\left[ (y_1 - a_1^3)w_{13}^2 + (y_2 - a_2^3)w^2_{23} \\right] \\cdot \\left[ a_3^2 \\cdot (1-a_3^2) \\right] \\cdot a_i^1$$"
   ]
  },
  {
   "cell_type": "markdown",
   "metadata": {},
   "source": [
    "Or:"
   ]
  },
  {
   "cell_type": "markdown",
   "metadata": {},
   "source": [
    "$$ \\frac{\\partial \\mathbf{J}}{\\partial w^1_{ji}} =- \\left[ (y_1 - a_1^3)w_{1j}^2 + (y_2 - a_2^3)w^2_{2j} \\right] \\cdot \\left[ a_j^2 \\cdot (1-a_j^2) \\right] \\cdot a_i^1$$"
   ]
  },
  {
   "cell_type": "markdown",
   "metadata": {},
   "source": [
    "Note that $a^2_i$ is involved when calculating both $z^3_1$ and $z^3_2$."
   ]
  },
  {
   "cell_type": "markdown",
   "metadata": {},
   "source": [
    "If we take a closer look at the first term of $\\frac{\\partial \\mathbf{J}}{\\partial w^1_{ji}}$, we can see that it is essentially the dot product of $\\delta^3$ and $(W^2)^T$:"
   ]
  },
  {
   "cell_type": "markdown",
   "metadata": {},
   "source": [
    "$$ \\delta^3 \\cdot (W^2)^T = \\begin{bmatrix} y_1 - a^3_1 & y_2 - a^3_2 \\end{bmatrix} \\cdot \\begin{bmatrix} w^2_{11} & w^2_{12} & w^2_{13} \\\\ w^2_{21} & w^2_{22} & w^2_{23}\\end{bmatrix} $$"
   ]
  },
  {
   "cell_type": "markdown",
   "metadata": {},
   "source": [
    "$$ = \\begin{bmatrix} (y_1 - a^3_1)w^2_{11} + (y_2 - a^3_2)w^2_{21} & (y_1 - a^3_1)w^2_{12} + (y_2 - a^3_2)w^2_{22} & (y_1 - a^3_1)w^2_{13} + (y_2 - a^3_2)w^2_{23}  \\end{bmatrix} $$"
   ]
  },
  {
   "cell_type": "markdown",
   "metadata": {},
   "source": [
    "Then, we can get the errors in the first layer:"
   ]
  },
  {
   "cell_type": "markdown",
   "metadata": {},
   "source": [
    "$$ \\delta^2 = \\delta^3 \\cdot (W^2)^T \\otimes \\left[ A^2 \\otimes (1-A^2) \\right] $$"
   ]
  },
  {
   "cell_type": "markdown",
   "metadata": {},
   "source": [
    "$$ =\\begin{bmatrix} \\left( (y_1 - a_1^3)w_{11}^2 + (y_2 - a_2^3)w^2_{21} \\right) \\cdot \\left( a_1^2 \\cdot (1-a_1^2) \\right) & \\left( (y_1 - a_1^3)w_{12}^2 + (y_2 - a_2^3)w^2_{22} \\right) \\cdot \\left( a_2^2 \\cdot (1-a_2^2) \\right) & \\left( (y_1 - a_1^3)w_{13}^2 + (y_2 - a_2^3)w^2_{23} \\right) \\cdot \\left( a_3^2 \\cdot (1-a_3^2) \\right)  \\end{bmatrix} $$"
   ]
  },
  {
   "cell_type": "markdown",
   "metadata": {},
   "source": [
    "Where $\\otimes$ is the element wise multiplication."
   ]
  },
  {
   "cell_type": "markdown",
   "metadata": {},
   "source": [
    "Finally the gradients with respect to $w^1$ in a matrix form is:"
   ]
  },
  {
   "cell_type": "markdown",
   "metadata": {},
   "source": [
    "$$ \\frac{\\partial \\mathbf{J}}{\\partial W^1} = -(A^1)^T \\cdot \\delta^2 = -\\begin{bmatrix}\\frac{\\partial \\mathbf{J}}{\\partial w^1_{11}} & \\frac{\\partial \\mathbf{J}}{\\partial w^1_{21}} & \\frac{\\partial \\mathbf{J}}{\\partial w^1_{31}} \\\\ \\frac{\\partial \\mathbf{J}}{\\partial w^1_{12}} & \\frac{\\partial \\mathbf{J}}{\\partial w^1_{22}} & \\frac{\\partial \\mathbf{J}}{\\partial w^1_{32}}\\end{bmatrix} $$"
   ]
  },
  {
   "cell_type": "markdown",
   "metadata": {},
   "source": [
    "Therefore, the patterns that we can recognize are:"
   ]
  },
  {
   "cell_type": "markdown",
   "metadata": {},
   "source": [
    "$$ \\delta^{n} = \\delta^{n+1} \\cdot (W^n)^T \\otimes \\left[ A^n \\otimes (1-A^n) \\right] $$"
   ]
  },
  {
   "cell_type": "markdown",
   "metadata": {},
   "source": [
    "$$ \\frac{\\partial \\mathbf{J}}{\\partial W^n} = -(A^n)^T \\cdot \\delta^{n+1}  $$"
   ]
  },
  {
   "cell_type": "markdown",
   "metadata": {},
   "source": [
    "And the weights can be updated using the gradients:"
   ]
  },
  {
   "cell_type": "markdown",
   "metadata": {},
   "source": [
    "$$W^n := W_n - \\eta \\cdot \\frac{\\partial \\mathbf{J}}{\\partial w^n}$$"
   ]
  },
  {
   "cell_type": "markdown",
   "metadata": {},
   "source": [
    "# Code Walk Through"
   ]
  },
  {
   "cell_type": "markdown",
   "metadata": {},
   "source": [
    "Now that we have understood the math behind the classifier, I will walk you through the most important function in my classifier: the \"fit\" function. For your convenience, I paste the \"fit\" function below:"
   ]
  },
  {
   "cell_type": "code",
   "execution_count": 15,
   "metadata": {},
   "outputs": [],
   "source": [
    "def fit(self,X, y):    \n",
    "    \"\"\"Learn weights from training data.\n",
    "\n",
    "    Parameters\n",
    "    ------------\n",
    "    X : array, shape = [n_examples, k_features]\n",
    "        Input layer with original features.\n",
    "    y : array, shape = [n_examples]\n",
    "        Target class labels.\n",
    "    Returns\n",
    "    -----------\n",
    "    self\n",
    "\n",
    "    \"\"\"\n",
    "    y = self._one_hot(y)        \n",
    "    # Initialize weights and bias\n",
    "    self.weights, self.bias = self._init_weights(X, y)\n",
    "\n",
    "    for _ in range(self.n_iter):\n",
    "        indices = np.arange(X.shape[0])\n",
    "        if self.shuffle:\n",
    "            np.random.shuffle(indices)\n",
    "        for start_idx in range(0, indices.shape[0]-self.minibatch_size+1, self.minibatch_size):\n",
    "            batch_idx = indices[start_idx:start_idx+self.minibatch_size]\n",
    "            X_batch = X[batch_idx]\n",
    "            y_batch = y[batch_idx]\n",
    "            # Forward Propagation\n",
    "            z, a = self._forward(X_batch)\n",
    "\n",
    "            # Back Propagation\n",
    "            # Note that the errors and the delta_weights are stored in reverse order. \n",
    "            # i.e. for the last layer, the error and delta_weights are errors[0] and delta_weights[0]\n",
    "            errors = [] # the errors between anticipated vs. predicted activation values\n",
    "            delta_weights = [] # the values to adjust weights\n",
    "            delta_bias = [] # the values to adjust bias\n",
    "            for j in range(self.n_layers+1):\n",
    "                if j == 0:\n",
    "                    errors.append(y_batch-a[self.n_layers])\n",
    "                    delta_weights.append(-np.dot(a[self.n_layers-1].T, errors[j])-self.l2*self.weights[self.n_layers])\n",
    "                    delta_bias.append(np.sum(errors[j], axis=0))\n",
    "                elif j == self.n_layers:\n",
    "                    part_1 = np.dot(errors[j-1], self.weights[self.n_layers+1-j].T)\n",
    "                    part_2 = np.multiply(a[self.n_layers-j], 1-a[self.n_layers-j])\n",
    "                    errors.append(np.multiply(part_1, part_2))\n",
    "                    delta_weights.append(-np.dot(X_batch.T, errors[j])-self.l2*self.weights[self.n_layers-j])\n",
    "                    delta_bias.append(np.sum(errors[j], axis=0))\n",
    "                else:\n",
    "                    part_1 = np.dot(errors[j-1], self.weights[self.n_layers+1-j].T)\n",
    "                    part_2 = np.multiply(a[self.n_layers-j], 1-a[self.n_layers-j])\n",
    "                    errors.append(np.multiply(part_1, part_2))\n",
    "                    delta_weights.append(-np.dot(a[self.n_layers-1-j].T, errors[j])-self.l2*self.weights[self.n_layers-j])\n",
    "                    delta_bias.append(np.sum(errors[j], axis=0))\n",
    "\n",
    "            # Update weights\n",
    "            for k in range(self.n_layers+1):\n",
    "                self.weights[k] -=  self.eta*delta_weights[self.n_layers-k]\n",
    "                self.bias[k] -= self.eta*delta_bias[self.n_layers-k]"
   ]
  },
  {
   "cell_type": "markdown",
   "metadata": {},
   "source": [
    "The first thing that the \"fit\" function does is to convert y into its [one hot form](https://en.wikipedia.org/wiki/One-hot), by using the _one_hot() function, as shown below."
   ]
  },
  {
   "cell_type": "code",
   "execution_count": 16,
   "metadata": {},
   "outputs": [],
   "source": [
    "def _one_hot(self, y):\n",
    "    \"\"\"Convert target values into one-hot shape\n",
    "\n",
    "    Parameters\n",
    "    -------------\n",
    "    y : array, shape = [n_examples]\n",
    "\n",
    "    Returns\n",
    "    -----------\n",
    "    one_hot_y : array, shape = [n_examples, m_unique_labels]\n",
    "\n",
    "    \"\"\"\n",
    "    self.le = LabelEncoder()\n",
    "    y_label = self.le.fit_transform(y)\n",
    "    one_hot_y = np.zeros((y_label.shape[0], np.unique(y_label).shape[0]))\n",
    "    for idx, label in enumerate(y_label):\n",
    "        one_hot_y[idx, label] = 1\n",
    "    return one_hot_y"
   ]
  },
  {
   "cell_type": "markdown",
   "metadata": {},
   "source": [
    "The one hot form of a label vector y is essentially a matrix in which its row indices represent the indices of the label and the column indicies represent the unique labels. The one hot form is used because the labels contain digits from 0 to 9 and we don't want to confuse the classifier. If we don't use the one hot form, the classifier will consider label 2 is larger than label 1, which is not true. An example of how the function works:"
   ]
  },
  {
   "cell_type": "code",
   "execution_count": 17,
   "metadata": {},
   "outputs": [
    {
     "name": "stdout",
     "output_type": "stream",
     "text": [
      "y: \n",
      "['a' '2' 'b' '3' '2' 'a']\n",
      "y in one hot form: \n",
      "[[0. 0. 1. 0.]\n",
      " [1. 0. 0. 0.]\n",
      " [0. 0. 0. 1.]\n",
      " [0. 1. 0. 0.]\n",
      " [1. 0. 0. 0.]\n",
      " [0. 0. 1. 0.]]\n"
     ]
    }
   ],
   "source": [
    "y = np.array(['a', 2, 'b', 3, 2, 'a'])\n",
    "MNN = MultiNNClassifier()\n",
    "one_hot_y = MNN._one_hot(y)\n",
    "print(\"y: \")\n",
    "print(y)\n",
    "print(\"y in one hot form: \")\n",
    "print(one_hot_y)"
   ]
  },
  {
   "cell_type": "markdown",
   "metadata": {},
   "source": [
    "Then, the weights and bias are initialized through a function called _init_weights(). [Bias](https://intellipaat.com/community/253/role-of-bias-in-neural-networks#:~:text=Bias%20is%20like%20the%20intercept,best%20for%20the%20given%20data.) is an additional parameter in the neural network to adjust the output along with the weighted sum of the inputs to the neuron . Each layer of neural network has one bias. If we consider the bias to the net input, the formula becomes:"
   ]
  },
  {
   "cell_type": "markdown",
   "metadata": {},
   "source": [
    "$$ Z^n = A^{n-1}W^{n-1} + B^{n-1}$$"
   ]
  },
  {
   "cell_type": "markdown",
   "metadata": {},
   "source": [
    "Where $B^{n-1}$ is the bias array."
   ]
  },
  {
   "cell_type": "code",
   "execution_count": 18,
   "metadata": {},
   "outputs": [],
   "source": [
    "def _init_weights(self, X, y):\n",
    "    \"\"\"Initialize weights for the hidden layers in the multi-layer neuron network\n",
    "\n",
    "    Parameters\n",
    "    ------------\n",
    "    X : array, shape = [n_examples, k_neurons]\n",
    "        Inputs of a layer\n",
    "    y : array, shape = [n_examples, m_unique_labels]\n",
    "        Target values\n",
    "\n",
    "\n",
    "    Returns\n",
    "    -----------\n",
    "    weights : list of arrays\n",
    "    bias : list of arrays\n",
    "\n",
    "    \"\"\"\n",
    "    if len(self.n_neurons) != self.n_layers:\n",
    "        raise ValueError(\"The length of n_neurons doesn't match the number of hidden layers;\",\n",
    "                         \"got %d as the length of n_neurons and %d as the number of hidden layers\"\\\n",
    "                         %(len(self.n_neurons), self.n_layers))\n",
    "    weights = []\n",
    "    bias = []\n",
    "    for i in range(self.n_layers+1):\n",
    "        if i == 0:\n",
    "            # For the first layer, the number of rows of weights have to match the number of columns of X for matrix multiplication\n",
    "            weights.append(self.random.normal(loc=0.0, scale=0.1, size=(X.shape[1], self.n_neurons[i])))\n",
    "            bias.append(np.zeros(self.n_neurons[i]))\n",
    "        elif i == self.n_layers:\n",
    "            # For the last layer, the number of columns of weights have to match the number of columns of y\n",
    "            weights.append(self.random.normal(loc=0.0, scale=0.1, size=(weights[i-1].shape[1], y.shape[1])))\n",
    "            bias.append(np.zeros(y.shape[1]))\n",
    "        else:\n",
    "            weights.append(self.random.normal(loc=0.0, scale=0.1, size=(weights[i-1].shape[1], self.n_neurons[i])))\n",
    "            bias.append(np.zeros(self.n_neurons[i]))\n",
    "    return weights, bias"
   ]
  },
  {
   "cell_type": "markdown",
   "metadata": {},
   "source": [
    "Here, weights and bias are initiated as empty lists. Then, the weights and bias in each layer are appended into the lists, so that the first elements in the lists are the weights and bias in the first layer, the second elements in the lists are the weights and bias in the second layer, and so on. The most important part here is to identify the right dimensions of the weights and bias arrays. Since we use the dot product of $A^{n-1}$ and $W^{n-1}$ to find $Z^n$, the number of rows of $W^{n-1}$ has to match the number of columns of $A^{n-1}$, and the number of columns of $W^{n-1}$ has to match the number of columns of $Z^n$. Also, the dimensions of the bias $B^{n-1}$ should be the same as the dimensions of $Z^n$."
   ]
  },
  {
   "cell_type": "markdown",
   "metadata": {},
   "source": [
    "Then, in a given number of iterations, the function firstly shuffle the indices, and split the entire training set into mini-batches to improve the computational efficiency. After that, the output values are calculated by the forward-propagation through _foward() function. "
   ]
  },
  {
   "cell_type": "code",
   "execution_count": 19,
   "metadata": {},
   "outputs": [],
   "source": [
    "def _forward (self, X):\n",
    "    \"\"\"Compute the net input function and activation results by forward propagation\n",
    "\n",
    "    Parameters\n",
    "    ------------\n",
    "    X : array, shape = [n_examples, k_neurons]\n",
    "        Inputs of a layer\n",
    "\n",
    "    Returns\n",
    "    -----------\n",
    "    z : List of arrays\n",
    "        Net input function results for all layers\n",
    "    a : List of arrays\n",
    "        Activation results for all layers\n",
    "\n",
    "    \"\"\"\n",
    "    z = [] \n",
    "    a = []\n",
    "    for i in range(self.n_layers+1):\n",
    "        if i == 0:\n",
    "            z.append(np.dot(X, self.weights[i]) + self.bias[i])\n",
    "            a.append(self._sigmoid(z[i]))\n",
    "        else:\n",
    "            z.append(np.dot(a[i-1], self.weights[i]) + self.bias[i])\n",
    "            a.append(self._sigmoid(z[i]))\n",
    "    return z, a"
   ]
  },
  {
   "cell_type": "markdown",
   "metadata": {},
   "source": [
    "Essentially, the forward-propagation uses two formulas mentioned above:"
   ]
  },
  {
   "cell_type": "markdown",
   "metadata": {},
   "source": [
    "$$ Z^n = A^{n-1}W^{n-1} + B^{n-1}$$"
   ]
  },
  {
   "cell_type": "markdown",
   "metadata": {},
   "source": [
    "$$ A^n = \\phi (Z^n) $$"
   ]
  },
  {
   "cell_type": "markdown",
   "metadata": {},
   "source": [
    "Afterwards, the back-propagation is implemented to find the gradients with respect to each weight and bias to update the weights and bias. The back-propagation algorithm is essentially the implementation of the patterns I mentioned above: "
   ]
  },
  {
   "cell_type": "markdown",
   "metadata": {},
   "source": [
    "$$ \\delta^{n} = \\delta^{n+1} \\cdot (W^n)^T \\otimes \\left[ A^n \\otimes (1-A^n) \\right] $$"
   ]
  },
  {
   "cell_type": "markdown",
   "metadata": {},
   "source": [
    "$$ \\frac{\\partial \\mathbf{J}}{\\partial W^n} = -(A^n)^T \\cdot \\delta^{n+1}  $$"
   ]
  },
  {
   "cell_type": "markdown",
   "metadata": {},
   "source": [
    "Note that since the variables are determined backwards from the last layer to the first, the orders for errors, delta_weights, and delta_bias are inversed. "
   ]
  }
 ],
 "metadata": {
  "kernelspec": {
   "display_name": "Python 3",
   "language": "python",
   "name": "python3"
  },
  "language_info": {
   "codemirror_mode": {
    "name": "ipython",
    "version": 3
   },
   "file_extension": ".py",
   "mimetype": "text/x-python",
   "name": "python",
   "nbconvert_exporter": "python",
   "pygments_lexer": "ipython3",
   "version": "3.7.4"
  }
 },
 "nbformat": 4,
 "nbformat_minor": 2
}
